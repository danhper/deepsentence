{
 "cells": [
  {
   "cell_type": "code",
   "execution_count": 2,
   "metadata": {
    "collapsed": false
   },
   "outputs": [
    {
     "name": "stderr",
     "output_type": "stream",
     "text": [
      "/Users/daigo/.pyenv/versions/3.5.2/envs/py352tensorflow/lib/python3.5/site-packages/gensim/utils.py:1015: UserWarning: Pattern library is not installed, lemmatization won't be available.\n",
      "  warnings.warn(\"Pattern library is not installed, lemmatization won't be available.\")\n"
     ]
    }
   ],
   "source": [
    "import pickle\n",
    "with open('../../w2v_model/size5_window5_min5/model.pkl', 'rb') as f_model:\n",
    "    model = pickle.load(f_model)"
   ]
  },
  {
   "cell_type": "code",
   "execution_count": 5,
   "metadata": {
    "collapsed": false
   },
   "outputs": [
    {
     "data": {
      "text/plain": [
       "[('教育', 0.9921189546585083),\n",
       " ('著作', 0.9840850234031677),\n",
       " ('インフラ', 0.9794334173202515),\n",
       " ('科学', 0.9775948524475098),\n",
       " ('巡り', 0.9714903831481934),\n",
       " ('平和', 0.9714358448982239),\n",
       " ('界', 0.9711034297943115),\n",
       " ('推進', 0.9708635807037354),\n",
       " ('巡る', 0.9704703092575073),\n",
       " ('分野', 0.968410849571228)]"
      ]
     },
     "execution_count": 5,
     "metadata": {},
     "output_type": "execute_result"
    }
   ],
   "source": [
    "model.most_similar(positive=['芸能'])"
   ]
  },
  {
   "cell_type": "code",
   "execution_count": 6,
   "metadata": {
    "collapsed": false
   },
   "outputs": [
    {
     "data": {
      "text/plain": [
       "[('かつて', 0.9891374707221985),\n",
       " ('活躍', 0.988615095615387),\n",
       " ('軍事', 0.9881013035774231),\n",
       " ('産業', 0.9861118793487549),\n",
       " ('巡る', 0.9838435649871826),\n",
       " ('著作', 0.9819033145904541),\n",
       " ('芸能', 0.9775947332382202),\n",
       " ('大学', 0.9744417071342468),\n",
       " ('インフラ', 0.9721477627754211),\n",
       " ('担当', 0.9711946249008179)]"
      ]
     },
     "execution_count": 6,
     "metadata": {},
     "output_type": "execute_result"
    }
   ],
   "source": [
    "model.most_similar(positive=['科学'])"
   ]
  },
  {
   "cell_type": "code",
   "execution_count": null,
   "metadata": {
    "collapsed": true
   },
   "outputs": [],
   "source": []
  }
 ],
 "metadata": {
  "kernelspec": {
   "display_name": "Python 3",
   "language": "python",
   "name": "python3"
  },
  "language_info": {
   "codemirror_mode": {
    "name": "ipython",
    "version": 3
   },
   "file_extension": ".py",
   "mimetype": "text/x-python",
   "name": "python",
   "nbconvert_exporter": "python",
   "pygments_lexer": "ipython3",
   "version": "3.5.2"
  }
 },
 "nbformat": 4,
 "nbformat_minor": 2
}
